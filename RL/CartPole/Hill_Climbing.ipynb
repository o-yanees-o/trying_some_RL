{
 "cells": [
  {
   "cell_type": "code",
   "execution_count": 1,
   "id": "a346c3fa",
   "metadata": {},
   "outputs": [],
   "source": [
    "%cd \"C:\\Projects\\RL\\CartPole\\\"\n",
    "%notebook \"C:\\Projects\\RL\\CartPole\\Hill_Climbing.ipynb\""
   ]
  }
 ],
 "metadata": {},
 "nbformat": 4,
 "nbformat_minor": 5
}
