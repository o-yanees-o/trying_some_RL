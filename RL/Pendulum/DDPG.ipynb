{
 "cells": [
  {
   "cell_type": "code",
   "execution_count": 1,
   "id": "fa710152",
   "metadata": {},
   "outputs": [],
   "source": [
    "%cd \"C:\\Projects\\RL\\Pendulum\\\"\n",
    "%notebook \"C:\\Projects\\RL\\Pendulum\\DDPG.ipynb\""
   ]
  }
 ],
 "metadata": {},
 "nbformat": 4,
 "nbformat_minor": 5
}
